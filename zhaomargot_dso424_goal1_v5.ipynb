{
  "nbformat": 4,
  "nbformat_minor": 0,
  "metadata": {
    "colab": {
      "provenance": [],
      "authorship_tag": "ABX9TyNWgmr1K8ynFPOmHsntGAid",
      "include_colab_link": true
    },
    "kernelspec": {
      "name": "python3",
      "display_name": "Python 3"
    },
    "language_info": {
      "name": "python"
    },
    "widgets": {
      "application/vnd.jupyter.widget-state+json": {
        "0bec7cd5e45d4b109a8cc8fcd54b77f2": {
          "model_module": "@jupyter-widgets/controls",
          "model_name": "HBoxModel",
          "model_module_version": "1.5.0",
          "state": {
            "_dom_classes": [],
            "_model_module": "@jupyter-widgets/controls",
            "_model_module_version": "1.5.0",
            "_model_name": "HBoxModel",
            "_view_count": null,
            "_view_module": "@jupyter-widgets/controls",
            "_view_module_version": "1.5.0",
            "_view_name": "HBoxView",
            "box_style": "",
            "children": [
              "IPY_MODEL_65adc1a4f4714e2583e847811102b4df",
              "IPY_MODEL_25f16d5dd51b469b9f4138593344d7d9",
              "IPY_MODEL_f6b12f117780414cb7d4ba1edd3b8590"
            ],
            "layout": "IPY_MODEL_1932315de5834f7a974472daebfa0bff"
          }
        },
        "65adc1a4f4714e2583e847811102b4df": {
          "model_module": "@jupyter-widgets/controls",
          "model_name": "HTMLModel",
          "model_module_version": "1.5.0",
          "state": {
            "_dom_classes": [],
            "_model_module": "@jupyter-widgets/controls",
            "_model_module_version": "1.5.0",
            "_model_name": "HTMLModel",
            "_view_count": null,
            "_view_module": "@jupyter-widgets/controls",
            "_view_module_version": "1.5.0",
            "_view_name": "HTMLView",
            "description": "",
            "description_tooltip": null,
            "layout": "IPY_MODEL_fdfcad7e7af44f2b8a48613350807657",
            "placeholder": "​",
            "style": "IPY_MODEL_cab5fd6da056437895140fc1abf4fc7f",
            "value": "Processing: 100%"
          }
        },
        "25f16d5dd51b469b9f4138593344d7d9": {
          "model_module": "@jupyter-widgets/controls",
          "model_name": "FloatProgressModel",
          "model_module_version": "1.5.0",
          "state": {
            "_dom_classes": [],
            "_model_module": "@jupyter-widgets/controls",
            "_model_module_version": "1.5.0",
            "_model_name": "FloatProgressModel",
            "_view_count": null,
            "_view_module": "@jupyter-widgets/controls",
            "_view_module_version": "1.5.0",
            "_view_name": "ProgressView",
            "bar_style": "",
            "description": "",
            "description_tooltip": null,
            "layout": "IPY_MODEL_dd8789cf097b489b9ce3f7fa51ca33f8",
            "max": 4,
            "min": 0,
            "orientation": "horizontal",
            "style": "IPY_MODEL_b6751ef14a4e4e18932da1a71b955ac5",
            "value": 4
          }
        },
        "f6b12f117780414cb7d4ba1edd3b8590": {
          "model_module": "@jupyter-widgets/controls",
          "model_name": "HTMLModel",
          "model_module_version": "1.5.0",
          "state": {
            "_dom_classes": [],
            "_model_module": "@jupyter-widgets/controls",
            "_model_module_version": "1.5.0",
            "_model_name": "HTMLModel",
            "_view_count": null,
            "_view_module": "@jupyter-widgets/controls",
            "_view_module_version": "1.5.0",
            "_view_name": "HTMLView",
            "description": "",
            "description_tooltip": null,
            "layout": "IPY_MODEL_9710f62d7b2f4760aa4d50a141314957",
            "placeholder": "​",
            "style": "IPY_MODEL_bc1250704a294650a3f2db10975ce588",
            "value": " 4/4 [00:01&lt;00:00,  2.47it/s]"
          }
        },
        "1932315de5834f7a974472daebfa0bff": {
          "model_module": "@jupyter-widgets/base",
          "model_name": "LayoutModel",
          "model_module_version": "1.2.0",
          "state": {
            "_model_module": "@jupyter-widgets/base",
            "_model_module_version": "1.2.0",
            "_model_name": "LayoutModel",
            "_view_count": null,
            "_view_module": "@jupyter-widgets/base",
            "_view_module_version": "1.2.0",
            "_view_name": "LayoutView",
            "align_content": null,
            "align_items": null,
            "align_self": null,
            "border": null,
            "bottom": null,
            "display": null,
            "flex": null,
            "flex_flow": null,
            "grid_area": null,
            "grid_auto_columns": null,
            "grid_auto_flow": null,
            "grid_auto_rows": null,
            "grid_column": null,
            "grid_gap": null,
            "grid_row": null,
            "grid_template_areas": null,
            "grid_template_columns": null,
            "grid_template_rows": null,
            "height": null,
            "justify_content": null,
            "justify_items": null,
            "left": null,
            "margin": null,
            "max_height": null,
            "max_width": null,
            "min_height": null,
            "min_width": null,
            "object_fit": null,
            "object_position": null,
            "order": null,
            "overflow": null,
            "overflow_x": null,
            "overflow_y": null,
            "padding": null,
            "right": null,
            "top": null,
            "visibility": "hidden",
            "width": null
          }
        },
        "fdfcad7e7af44f2b8a48613350807657": {
          "model_module": "@jupyter-widgets/base",
          "model_name": "LayoutModel",
          "model_module_version": "1.2.0",
          "state": {
            "_model_module": "@jupyter-widgets/base",
            "_model_module_version": "1.2.0",
            "_model_name": "LayoutModel",
            "_view_count": null,
            "_view_module": "@jupyter-widgets/base",
            "_view_module_version": "1.2.0",
            "_view_name": "LayoutView",
            "align_content": null,
            "align_items": null,
            "align_self": null,
            "border": null,
            "bottom": null,
            "display": null,
            "flex": null,
            "flex_flow": null,
            "grid_area": null,
            "grid_auto_columns": null,
            "grid_auto_flow": null,
            "grid_auto_rows": null,
            "grid_column": null,
            "grid_gap": null,
            "grid_row": null,
            "grid_template_areas": null,
            "grid_template_columns": null,
            "grid_template_rows": null,
            "height": null,
            "justify_content": null,
            "justify_items": null,
            "left": null,
            "margin": null,
            "max_height": null,
            "max_width": null,
            "min_height": null,
            "min_width": null,
            "object_fit": null,
            "object_position": null,
            "order": null,
            "overflow": null,
            "overflow_x": null,
            "overflow_y": null,
            "padding": null,
            "right": null,
            "top": null,
            "visibility": null,
            "width": null
          }
        },
        "cab5fd6da056437895140fc1abf4fc7f": {
          "model_module": "@jupyter-widgets/controls",
          "model_name": "DescriptionStyleModel",
          "model_module_version": "1.5.0",
          "state": {
            "_model_module": "@jupyter-widgets/controls",
            "_model_module_version": "1.5.0",
            "_model_name": "DescriptionStyleModel",
            "_view_count": null,
            "_view_module": "@jupyter-widgets/base",
            "_view_module_version": "1.2.0",
            "_view_name": "StyleView",
            "description_width": ""
          }
        },
        "dd8789cf097b489b9ce3f7fa51ca33f8": {
          "model_module": "@jupyter-widgets/base",
          "model_name": "LayoutModel",
          "model_module_version": "1.2.0",
          "state": {
            "_model_module": "@jupyter-widgets/base",
            "_model_module_version": "1.2.0",
            "_model_name": "LayoutModel",
            "_view_count": null,
            "_view_module": "@jupyter-widgets/base",
            "_view_module_version": "1.2.0",
            "_view_name": "LayoutView",
            "align_content": null,
            "align_items": null,
            "align_self": null,
            "border": null,
            "bottom": null,
            "display": null,
            "flex": null,
            "flex_flow": null,
            "grid_area": null,
            "grid_auto_columns": null,
            "grid_auto_flow": null,
            "grid_auto_rows": null,
            "grid_column": null,
            "grid_gap": null,
            "grid_row": null,
            "grid_template_areas": null,
            "grid_template_columns": null,
            "grid_template_rows": null,
            "height": null,
            "justify_content": null,
            "justify_items": null,
            "left": null,
            "margin": null,
            "max_height": null,
            "max_width": null,
            "min_height": null,
            "min_width": null,
            "object_fit": null,
            "object_position": null,
            "order": null,
            "overflow": null,
            "overflow_x": null,
            "overflow_y": null,
            "padding": null,
            "right": null,
            "top": null,
            "visibility": null,
            "width": null
          }
        },
        "b6751ef14a4e4e18932da1a71b955ac5": {
          "model_module": "@jupyter-widgets/controls",
          "model_name": "ProgressStyleModel",
          "model_module_version": "1.5.0",
          "state": {
            "_model_module": "@jupyter-widgets/controls",
            "_model_module_version": "1.5.0",
            "_model_name": "ProgressStyleModel",
            "_view_count": null,
            "_view_module": "@jupyter-widgets/base",
            "_view_module_version": "1.2.0",
            "_view_name": "StyleView",
            "bar_color": null,
            "description_width": ""
          }
        },
        "9710f62d7b2f4760aa4d50a141314957": {
          "model_module": "@jupyter-widgets/base",
          "model_name": "LayoutModel",
          "model_module_version": "1.2.0",
          "state": {
            "_model_module": "@jupyter-widgets/base",
            "_model_module_version": "1.2.0",
            "_model_name": "LayoutModel",
            "_view_count": null,
            "_view_module": "@jupyter-widgets/base",
            "_view_module_version": "1.2.0",
            "_view_name": "LayoutView",
            "align_content": null,
            "align_items": null,
            "align_self": null,
            "border": null,
            "bottom": null,
            "display": null,
            "flex": null,
            "flex_flow": null,
            "grid_area": null,
            "grid_auto_columns": null,
            "grid_auto_flow": null,
            "grid_auto_rows": null,
            "grid_column": null,
            "grid_gap": null,
            "grid_row": null,
            "grid_template_areas": null,
            "grid_template_columns": null,
            "grid_template_rows": null,
            "height": null,
            "justify_content": null,
            "justify_items": null,
            "left": null,
            "margin": null,
            "max_height": null,
            "max_width": null,
            "min_height": null,
            "min_width": null,
            "object_fit": null,
            "object_position": null,
            "order": null,
            "overflow": null,
            "overflow_x": null,
            "overflow_y": null,
            "padding": null,
            "right": null,
            "top": null,
            "visibility": null,
            "width": null
          }
        },
        "bc1250704a294650a3f2db10975ce588": {
          "model_module": "@jupyter-widgets/controls",
          "model_name": "DescriptionStyleModel",
          "model_module_version": "1.5.0",
          "state": {
            "_model_module": "@jupyter-widgets/controls",
            "_model_module_version": "1.5.0",
            "_model_name": "DescriptionStyleModel",
            "_view_count": null,
            "_view_module": "@jupyter-widgets/base",
            "_view_module_version": "1.2.0",
            "_view_name": "StyleView",
            "description_width": ""
          }
        }
      }
    }
  },
  "cells": [
    {
      "cell_type": "markdown",
      "metadata": {
        "id": "view-in-github",
        "colab_type": "text"
      },
      "source": [
        "<a href=\"https://colab.research.google.com/github/zhaomargot/energyloadforecasts/blob/main/zhaomargot_dso424_goal1_v5.ipynb\" target=\"_parent\"><img src=\"https://colab.research.google.com/assets/colab-badge.svg\" alt=\"Open In Colab\"/></a>"
      ]
    },
    {
      "cell_type": "markdown",
      "source": [
        "Margot Zhao"
      ],
      "metadata": {
        "id": "-ilRwWqzLImT"
      }
    },
    {
      "cell_type": "code",
      "execution_count": null,
      "metadata": {
        "id": "KZ8UaCNqtPPR"
      },
      "outputs": [],
      "source": [
        "# install pycaret\n",
        "!pip install pycaret\n",
        "\n",
        "\n",
        "# import libraries\n",
        "import pandas as pd\n",
        "import numpy as np\n",
        "import pandas as pd\n",
        "import matplotlib.pyplot as plt\n",
        "import matplotlib as mpl\n",
        "from statsmodels.tsa.seasonal import seasonal_decompose\n",
        "from statsmodels.tsa.seasonal import STL\n",
        "from statsmodels.graphics.tsaplots import plot_acf\n",
        "\n",
        "# resolution\n",
        "mpl.rcParams['figure.dpi'] = 300\n",
        "plt.style.use('seaborn-whitegrid')"
      ]
    },
    {
      "cell_type": "code",
      "source": [
        "# import data as pandas file\n",
        "df = pd.read_excel(\"https://github.com/robertasgabrys/DSO424SPRING2023/blob/main/CompetitionData.xlsx?raw=true\")"
      ],
      "metadata": {
        "id": "_Ju3hgGctTMy"
      },
      "execution_count": null,
      "outputs": []
    },
    {
      "cell_type": "code",
      "source": [
        "# create timestamps\n",
        "df[\"Time\"] = pd.date_range(start = pd.Timestamp('2002-01-01 00:00'),end = pd.Timestamp('2006-12-31 23:59'),freq='H')\n",
        "df[\"Date\"] = df[\"Time\"].dt.date\n",
        "print(df)"
      ],
      "metadata": {
        "id": "9BolAndCtTsm"
      },
      "execution_count": null,
      "outputs": []
    },
    {
      "cell_type": "code",
      "source": [
        "df[\"Hour\"] = df[\"Time\"].dt.strftime(\"%H\")\n",
        "df[\"Hour\"] = df[\"Hour\"].astype(int)\n",
        "\n",
        "df[\"Month\"] = [i.month for i in df[\"Date\"]]\n",
        "\n",
        "df[\"Year\"] = [i.year for i in df[\"Date\"]]\n",
        "\n",
        "df[\"Day_of_week\"] = [i.isoweekday() for i in df[\"Date\"]]\n",
        "\n",
        "df[\"Day_of_year\"] = [pd.Period(i, freq='D').day_of_year for i in df[\"Date\"]]"
      ],
      "metadata": {
        "id": "erA2cFPDK8oL"
      },
      "execution_count": null,
      "outputs": []
    },
    {
      "cell_type": "code",
      "source": [
        "df2 = df.loc[df[\"Time\"].dt.year < 2006]\n",
        "print(df2.tail())\n",
        "df2.set_index(\"Time\", inplace=True)\n",
        "df2.drop(columns=[\"Date\"], inplace=True)\n",
        "print(df2)"
      ],
      "metadata": {
        "id": "5jXoH0XCt4Cx"
      },
      "execution_count": null,
      "outputs": []
    },
    {
      "cell_type": "code",
      "source": [
        "df2.reset_index(drop=True, inplace=True)"
      ],
      "metadata": {
        "id": "qD6pSSmhAtOQ"
      },
      "execution_count": null,
      "outputs": []
    },
    {
      "cell_type": "code",
      "source": [
        "from pycaret.regression import *\n",
        "s = setup(df2, target = \"Load\", train_size=0.750171116,\n",
        "              data_split_shuffle = False, fold_strategy = 'timeseries', fold = 3,\n",
        "              numeric_features = ['Day_of_year', \"Tmax\", \"Tmin\", \"Year\", \"Tavg\", \"Tmed\",],\n",
        "              categorical_features = [\"Hour\",'Month', 'Day_of_week'], n_features_to_select=2, transformation=True, verbose = False, use_gpu=True, session_id = 123)\n"
      ],
      "metadata": {
        "id": "jv2JSNWIuKNn"
      },
      "execution_count": null,
      "outputs": []
    },
    {
      "cell_type": "code",
      "source": [
        "best_model = compare_models(sort = 'MAPE', verbose=False)"
      ],
      "metadata": {
        "id": "EcdUGJ1Azi5v"
      },
      "execution_count": null,
      "outputs": []
    },
    {
      "cell_type": "code",
      "source": [
        "all_results = []\n",
        "p = pull().iloc[0:1]\n",
        "all_results.append(p)\n",
        "print(p)\n",
        "# MAPE = 0.0656"
      ],
      "metadata": {
        "colab": {
          "base_uri": "https://localhost:8080/"
        },
        "id": "l7MZd1Lvsy0F",
        "outputId": "05817e03-5b28-45c2-90f1-dad68781e88d"
      },
      "execution_count": null,
      "outputs": [
        {
          "output_type": "stream",
          "name": "stdout",
          "text": [
            "                                    Model         MAE           MSE  \\\n",
            "lightgbm  Light Gradient Boosting Machine  87535.0448  1.506252e+10   \n",
            "\n",
            "                 RMSE      R2   RMSLE    MAPE  TT (Sec)  \n",
            "lightgbm  121794.2421  0.9092  0.0917  0.0656    0.2567  \n"
          ]
        }
      ]
    },
    {
      "cell_type": "code",
      "source": [
        "best = create_model(\"lightgbm\", fold=3)"
      ],
      "metadata": {
        "colab": {
          "base_uri": "https://localhost:8080/",
          "height": 237,
          "referenced_widgets": [
            "0bec7cd5e45d4b109a8cc8fcd54b77f2",
            "65adc1a4f4714e2583e847811102b4df",
            "25f16d5dd51b469b9f4138593344d7d9",
            "f6b12f117780414cb7d4ba1edd3b8590",
            "1932315de5834f7a974472daebfa0bff",
            "fdfcad7e7af44f2b8a48613350807657",
            "cab5fd6da056437895140fc1abf4fc7f",
            "dd8789cf097b489b9ce3f7fa51ca33f8",
            "b6751ef14a4e4e18932da1a71b955ac5",
            "9710f62d7b2f4760aa4d50a141314957",
            "bc1250704a294650a3f2db10975ce588"
          ]
        },
        "id": "cSBcjg82tDE-",
        "outputId": "bb3e7c9b-1246-437b-8ec8-2c6d6fe8dbcd"
      },
      "execution_count": null,
      "outputs": [
        {
          "output_type": "display_data",
          "data": {
            "text/plain": [
              "<IPython.core.display.HTML object>"
            ],
            "text/html": []
          },
          "metadata": {}
        },
        {
          "output_type": "display_data",
          "data": {
            "text/plain": [
              "<pandas.io.formats.style.Styler at 0x7f3a7559ddc0>"
            ],
            "text/html": [
              "<style type=\"text/css\">\n",
              "#T_f5c50_row3_col0, #T_f5c50_row3_col1, #T_f5c50_row3_col2, #T_f5c50_row3_col3, #T_f5c50_row3_col4, #T_f5c50_row3_col5 {\n",
              "  background: yellow;\n",
              "}\n",
              "</style>\n",
              "<table id=\"T_f5c50\" class=\"dataframe\">\n",
              "  <thead>\n",
              "    <tr>\n",
              "      <th class=\"blank level0\" >&nbsp;</th>\n",
              "      <th id=\"T_f5c50_level0_col0\" class=\"col_heading level0 col0\" >MAE</th>\n",
              "      <th id=\"T_f5c50_level0_col1\" class=\"col_heading level0 col1\" >MSE</th>\n",
              "      <th id=\"T_f5c50_level0_col2\" class=\"col_heading level0 col2\" >RMSE</th>\n",
              "      <th id=\"T_f5c50_level0_col3\" class=\"col_heading level0 col3\" >R2</th>\n",
              "      <th id=\"T_f5c50_level0_col4\" class=\"col_heading level0 col4\" >RMSLE</th>\n",
              "      <th id=\"T_f5c50_level0_col5\" class=\"col_heading level0 col5\" >MAPE</th>\n",
              "    </tr>\n",
              "    <tr>\n",
              "      <th class=\"index_name level0\" >Fold</th>\n",
              "      <th class=\"blank col0\" >&nbsp;</th>\n",
              "      <th class=\"blank col1\" >&nbsp;</th>\n",
              "      <th class=\"blank col2\" >&nbsp;</th>\n",
              "      <th class=\"blank col3\" >&nbsp;</th>\n",
              "      <th class=\"blank col4\" >&nbsp;</th>\n",
              "      <th class=\"blank col5\" >&nbsp;</th>\n",
              "    </tr>\n",
              "  </thead>\n",
              "  <tbody>\n",
              "    <tr>\n",
              "      <th id=\"T_f5c50_level0_row0\" class=\"row_heading level0 row0\" >0</th>\n",
              "      <td id=\"T_f5c50_row0_col0\" class=\"data row0 col0\" >93341.3712</td>\n",
              "      <td id=\"T_f5c50_row0_col1\" class=\"data row0 col1\" >17328981610.1401</td>\n",
              "      <td id=\"T_f5c50_row0_col2\" class=\"data row0 col2\" >131639.5898</td>\n",
              "      <td id=\"T_f5c50_row0_col3\" class=\"data row0 col3\" >0.8870</td>\n",
              "      <td id=\"T_f5c50_row0_col4\" class=\"data row0 col4\" >0.0991</td>\n",
              "      <td id=\"T_f5c50_row0_col5\" class=\"data row0 col5\" >0.0711</td>\n",
              "    </tr>\n",
              "    <tr>\n",
              "      <th id=\"T_f5c50_level0_row1\" class=\"row_heading level0 row1\" >1</th>\n",
              "      <td id=\"T_f5c50_row1_col0\" class=\"data row1 col0\" >75006.3420</td>\n",
              "      <td id=\"T_f5c50_row1_col1\" class=\"data row1 col1\" >10086205295.1072</td>\n",
              "      <td id=\"T_f5c50_row1_col2\" class=\"data row1 col2\" >100430.1015</td>\n",
              "      <td id=\"T_f5c50_row1_col3\" class=\"data row1 col3\" >0.9296</td>\n",
              "      <td id=\"T_f5c50_row1_col4\" class=\"data row1 col4\" >0.0752</td>\n",
              "      <td id=\"T_f5c50_row1_col5\" class=\"data row1 col5\" >0.0567</td>\n",
              "    </tr>\n",
              "    <tr>\n",
              "      <th id=\"T_f5c50_level0_row2\" class=\"row_heading level0 row2\" >2</th>\n",
              "      <td id=\"T_f5c50_row2_col0\" class=\"data row2 col0\" >94257.4214</td>\n",
              "      <td id=\"T_f5c50_row2_col1\" class=\"data row2 col1\" >17772365247.3680</td>\n",
              "      <td id=\"T_f5c50_row2_col2\" class=\"data row2 col2\" >133313.0348</td>\n",
              "      <td id=\"T_f5c50_row2_col3\" class=\"data row2 col3\" >0.9111</td>\n",
              "      <td id=\"T_f5c50_row2_col4\" class=\"data row2 col4\" >0.1008</td>\n",
              "      <td id=\"T_f5c50_row2_col5\" class=\"data row2 col5\" >0.0689</td>\n",
              "    </tr>\n",
              "    <tr>\n",
              "      <th id=\"T_f5c50_level0_row3\" class=\"row_heading level0 row3\" >Mean</th>\n",
              "      <td id=\"T_f5c50_row3_col0\" class=\"data row3 col0\" >87535.0448</td>\n",
              "      <td id=\"T_f5c50_row3_col1\" class=\"data row3 col1\" >15062517384.2051</td>\n",
              "      <td id=\"T_f5c50_row3_col2\" class=\"data row3 col2\" >121794.2421</td>\n",
              "      <td id=\"T_f5c50_row3_col3\" class=\"data row3 col3\" >0.9092</td>\n",
              "      <td id=\"T_f5c50_row3_col4\" class=\"data row3 col4\" >0.0917</td>\n",
              "      <td id=\"T_f5c50_row3_col5\" class=\"data row3 col5\" >0.0656</td>\n",
              "    </tr>\n",
              "    <tr>\n",
              "      <th id=\"T_f5c50_level0_row4\" class=\"row_heading level0 row4\" >Std</th>\n",
              "      <td id=\"T_f5c50_row4_col0\" class=\"data row4 col0\" >8867.0207</td>\n",
              "      <td id=\"T_f5c50_row4_col1\" class=\"data row4 col1\" >3523436652.7125</td>\n",
              "      <td id=\"T_f5c50_row4_col2\" class=\"data row4 col2\" >15122.1687</td>\n",
              "      <td id=\"T_f5c50_row4_col3\" class=\"data row4 col3\" >0.0174</td>\n",
              "      <td id=\"T_f5c50_row4_col4\" class=\"data row4 col4\" >0.0117</td>\n",
              "      <td id=\"T_f5c50_row4_col5\" class=\"data row4 col5\" >0.0063</td>\n",
              "    </tr>\n",
              "  </tbody>\n",
              "</table>\n"
            ]
          },
          "metadata": {}
        },
        {
          "output_type": "display_data",
          "data": {
            "text/plain": [
              "Processing:   0%|          | 0/4 [00:00<?, ?it/s]"
            ],
            "application/vnd.jupyter.widget-view+json": {
              "version_major": 2,
              "version_minor": 0,
              "model_id": "0bec7cd5e45d4b109a8cc8fcd54b77f2"
            }
          },
          "metadata": {
            "application/vnd.jupyter.widget-view+json": {
              "colab": {
                "custom_widget_manager": {
                  "url": "https://ssl.gstatic.com/colaboratory-static/widgets/colab-cdn-widget-manager/b3e629b1971e1542/manager.min.js"
                }
              }
            }
          }
        },
        {
          "output_type": "display_data",
          "data": {
            "text/plain": [
              "<IPython.core.display.HTML object>"
            ],
            "text/html": []
          },
          "metadata": {}
        }
      ]
    },
    {
      "cell_type": "code",
      "source": [
        "#2005 Forecast\n",
        "prediction_holdout = predict_model(best)"
      ],
      "metadata": {
        "colab": {
          "base_uri": "https://localhost:8080/",
          "height": 81
        },
        "id": "xX5mT83wsaGB",
        "outputId": "7d122b6c-4ee7-4daa-db52-19ffa8ddba8f"
      },
      "execution_count": null,
      "outputs": [
        {
          "output_type": "display_data",
          "data": {
            "text/plain": [
              "<pandas.io.formats.style.Styler at 0x7f3a753cad90>"
            ],
            "text/html": [
              "<style type=\"text/css\">\n",
              "</style>\n",
              "<table id=\"T_c1ab1\" class=\"dataframe\">\n",
              "  <thead>\n",
              "    <tr>\n",
              "      <th class=\"blank level0\" >&nbsp;</th>\n",
              "      <th id=\"T_c1ab1_level0_col0\" class=\"col_heading level0 col0\" >Model</th>\n",
              "      <th id=\"T_c1ab1_level0_col1\" class=\"col_heading level0 col1\" >MAE</th>\n",
              "      <th id=\"T_c1ab1_level0_col2\" class=\"col_heading level0 col2\" >MSE</th>\n",
              "      <th id=\"T_c1ab1_level0_col3\" class=\"col_heading level0 col3\" >RMSE</th>\n",
              "      <th id=\"T_c1ab1_level0_col4\" class=\"col_heading level0 col4\" >R2</th>\n",
              "      <th id=\"T_c1ab1_level0_col5\" class=\"col_heading level0 col5\" >RMSLE</th>\n",
              "      <th id=\"T_c1ab1_level0_col6\" class=\"col_heading level0 col6\" >MAPE</th>\n",
              "    </tr>\n",
              "  </thead>\n",
              "  <tbody>\n",
              "    <tr>\n",
              "      <th id=\"T_c1ab1_level0_row0\" class=\"row_heading level0 row0\" >0</th>\n",
              "      <td id=\"T_c1ab1_row0_col0\" class=\"data row0 col0\" >Light Gradient Boosting Machine</td>\n",
              "      <td id=\"T_c1ab1_row0_col1\" class=\"data row0 col1\" >95272.7900</td>\n",
              "      <td id=\"T_c1ab1_row0_col2\" class=\"data row0 col2\" >16427908496.0189</td>\n",
              "      <td id=\"T_c1ab1_row0_col3\" class=\"data row0 col3\" >128171.4028</td>\n",
              "      <td id=\"T_c1ab1_row0_col4\" class=\"data row0 col4\" >0.9198</td>\n",
              "      <td id=\"T_c1ab1_row0_col5\" class=\"data row0 col5\" >0.0872</td>\n",
              "      <td id=\"T_c1ab1_row0_col6\" class=\"data row0 col6\" >0.0639</td>\n",
              "    </tr>\n",
              "  </tbody>\n",
              "</table>\n"
            ]
          },
          "metadata": {}
        }
      ]
    },
    {
      "cell_type": "code",
      "source": [
        "#2006 Forecast\n",
        "final = finalize_model(best)"
      ],
      "metadata": {
        "id": "mS_dHxU1tD-W"
      },
      "execution_count": null,
      "outputs": []
    },
    {
      "cell_type": "code",
      "source": [
        "print(df)\n",
        "df.drop(columns=[\"Load\"], inplace=True)\n",
        "df.reset_index(drop=True, inplace=True)\n",
        "df2006 = df.drop(df2.index)\n",
        "df2006.reset_index(drop=True, inplace=True)\n",
        "print(df2006)"
      ],
      "metadata": {
        "colab": {
          "base_uri": "https://localhost:8080/"
        },
        "id": "lt2IHAnZs6Pt",
        "outputId": "b6cb2238-beca-4c2c-e013-72d0344f088a"
      },
      "execution_count": null,
      "outputs": [
        {
          "output_type": "stream",
          "name": "stdout",
          "text": [
            "       Tavg  Tmed  Tmax  Tmin       Load                Time        Date  \\\n",
            "0        43  43.0  60.0  31.0  1384494.0 2002-01-01 00:00:00  2002-01-01   \n",
            "1        42  42.0  58.0  29.0  1392822.0 2002-01-01 01:00:00  2002-01-01   \n",
            "2        41  41.0  57.0  31.0  1407887.0 2002-01-01 02:00:00  2002-01-01   \n",
            "3        41  41.0  56.0  30.0  1438658.0 2002-01-01 03:00:00  2002-01-01   \n",
            "4        40  41.0  53.0  29.0  1484046.0 2002-01-01 04:00:00  2002-01-01   \n",
            "...     ...   ...   ...   ...        ...                 ...         ...   \n",
            "43819    71  72.0  77.0  65.0        NaN 2006-12-31 19:00:00  2006-12-31   \n",
            "43820    70  72.0  75.0  65.0        NaN 2006-12-31 20:00:00  2006-12-31   \n",
            "43821    70  71.0  75.0  65.0        NaN 2006-12-31 21:00:00  2006-12-31   \n",
            "43822    69  70.0  74.0  65.0        NaN 2006-12-31 22:00:00  2006-12-31   \n",
            "43823    69  70.0  73.0  64.0        NaN 2006-12-31 23:00:00  2006-12-31   \n",
            "\n",
            "       Hour  Month  Year  Day_of_week  Day_of_year  \n",
            "0         0      1  2002            2            1  \n",
            "1         1      1  2002            2            1  \n",
            "2         2      1  2002            2            1  \n",
            "3         3      1  2002            2            1  \n",
            "4         4      1  2002            2            1  \n",
            "...     ...    ...   ...          ...          ...  \n",
            "43819    19     12  2006            7          365  \n",
            "43820    20     12  2006            7          365  \n",
            "43821    21     12  2006            7          365  \n",
            "43822    22     12  2006            7          365  \n",
            "43823    23     12  2006            7          365  \n",
            "\n",
            "[43824 rows x 12 columns]\n",
            "      Tavg  Tmed  Tmax  Tmin                Time        Date  Hour  Month  \\\n",
            "0       60  60.0  68.0  55.0 2006-01-01 00:00:00  2006-01-01     0      1   \n",
            "1       60  60.0  68.0  54.0 2006-01-01 01:00:00  2006-01-01     1      1   \n",
            "2       60  60.0  67.0  54.0 2006-01-01 02:00:00  2006-01-01     2      1   \n",
            "3       59  60.0  68.0  52.0 2006-01-01 03:00:00  2006-01-01     3      1   \n",
            "4       59  61.0  68.0  51.0 2006-01-01 04:00:00  2006-01-01     4      1   \n",
            "...    ...   ...   ...   ...                 ...         ...   ...    ...   \n",
            "8755    71  72.0  77.0  65.0 2006-12-31 19:00:00  2006-12-31    19     12   \n",
            "8756    70  72.0  75.0  65.0 2006-12-31 20:00:00  2006-12-31    20     12   \n",
            "8757    70  71.0  75.0  65.0 2006-12-31 21:00:00  2006-12-31    21     12   \n",
            "8758    69  70.0  74.0  65.0 2006-12-31 22:00:00  2006-12-31    22     12   \n",
            "8759    69  70.0  73.0  64.0 2006-12-31 23:00:00  2006-12-31    23     12   \n",
            "\n",
            "      Year  Day_of_week  Day_of_year  \n",
            "0     2006            7            1  \n",
            "1     2006            7            1  \n",
            "2     2006            7            1  \n",
            "3     2006            7            1  \n",
            "4     2006            7            1  \n",
            "...    ...          ...          ...  \n",
            "8755  2006            7          365  \n",
            "8756  2006            7          365  \n",
            "8757  2006            7          365  \n",
            "8758  2006            7          365  \n",
            "8759  2006            7          365  \n",
            "\n",
            "[8760 rows x 11 columns]\n"
          ]
        }
      ]
    },
    {
      "cell_type": "code",
      "source": [
        "predict_model(final, df2006, verbose=False)"
      ],
      "metadata": {
        "colab": {
          "base_uri": "https://localhost:8080/",
          "height": 830
        },
        "id": "6SSEv63kCfRP",
        "outputId": "eeebd69e-1371-42d5-a614-470922150eed"
      },
      "execution_count": null,
      "outputs": [
        {
          "output_type": "execute_result",
          "data": {
            "text/plain": [
              "      Tavg  Tmed  Tmax  Tmin                Time        Date  Hour  Month  \\\n",
              "0       60  60.0  68.0  55.0 2006-01-01 00:00:00  2006-01-01     0      1   \n",
              "1       60  60.0  68.0  54.0 2006-01-01 01:00:00  2006-01-01     1      1   \n",
              "2       60  60.0  67.0  54.0 2006-01-01 02:00:00  2006-01-01     2      1   \n",
              "3       59  60.0  68.0  52.0 2006-01-01 03:00:00  2006-01-01     3      1   \n",
              "4       59  61.0  68.0  51.0 2006-01-01 04:00:00  2006-01-01     4      1   \n",
              "...    ...   ...   ...   ...                 ...         ...   ...    ...   \n",
              "8755    71  72.0  77.0  65.0 2006-12-31 19:00:00  2006-12-31    19     12   \n",
              "8756    70  72.0  75.0  65.0 2006-12-31 20:00:00  2006-12-31    20     12   \n",
              "8757    70  71.0  75.0  65.0 2006-12-31 21:00:00  2006-12-31    21     12   \n",
              "8758    69  70.0  74.0  65.0 2006-12-31 22:00:00  2006-12-31    22     12   \n",
              "8759    69  70.0  73.0  64.0 2006-12-31 23:00:00  2006-12-31    23     12   \n",
              "\n",
              "      Year  Day_of_week  Day_of_year  prediction_label  \n",
              "0     2006            7            1      8.632645e+05  \n",
              "1     2006            7            1      7.867294e+05  \n",
              "2     2006            7            1      7.464466e+05  \n",
              "3     2006            7            1      7.548888e+05  \n",
              "4     2006            7            1      7.721618e+05  \n",
              "...    ...          ...          ...               ...  \n",
              "8755  2006            7          365      1.488023e+06  \n",
              "8756  2006            7          365      1.447917e+06  \n",
              "8757  2006            7          365      1.310218e+06  \n",
              "8758  2006            7          365      1.224375e+06  \n",
              "8759  2006            7          365      1.163751e+06  \n",
              "\n",
              "[8760 rows x 12 columns]"
            ],
            "text/html": [
              "\n",
              "  <div id=\"df-bcf1003a-4cb0-4885-9a42-309eb0209e06\">\n",
              "    <div class=\"colab-df-container\">\n",
              "      <div>\n",
              "<style scoped>\n",
              "    .dataframe tbody tr th:only-of-type {\n",
              "        vertical-align: middle;\n",
              "    }\n",
              "\n",
              "    .dataframe tbody tr th {\n",
              "        vertical-align: top;\n",
              "    }\n",
              "\n",
              "    .dataframe thead th {\n",
              "        text-align: right;\n",
              "    }\n",
              "</style>\n",
              "<table border=\"1\" class=\"dataframe\">\n",
              "  <thead>\n",
              "    <tr style=\"text-align: right;\">\n",
              "      <th></th>\n",
              "      <th>Tavg</th>\n",
              "      <th>Tmed</th>\n",
              "      <th>Tmax</th>\n",
              "      <th>Tmin</th>\n",
              "      <th>Time</th>\n",
              "      <th>Date</th>\n",
              "      <th>Hour</th>\n",
              "      <th>Month</th>\n",
              "      <th>Year</th>\n",
              "      <th>Day_of_week</th>\n",
              "      <th>Day_of_year</th>\n",
              "      <th>prediction_label</th>\n",
              "    </tr>\n",
              "  </thead>\n",
              "  <tbody>\n",
              "    <tr>\n",
              "      <th>0</th>\n",
              "      <td>60</td>\n",
              "      <td>60.0</td>\n",
              "      <td>68.0</td>\n",
              "      <td>55.0</td>\n",
              "      <td>2006-01-01 00:00:00</td>\n",
              "      <td>2006-01-01</td>\n",
              "      <td>0</td>\n",
              "      <td>1</td>\n",
              "      <td>2006</td>\n",
              "      <td>7</td>\n",
              "      <td>1</td>\n",
              "      <td>8.632645e+05</td>\n",
              "    </tr>\n",
              "    <tr>\n",
              "      <th>1</th>\n",
              "      <td>60</td>\n",
              "      <td>60.0</td>\n",
              "      <td>68.0</td>\n",
              "      <td>54.0</td>\n",
              "      <td>2006-01-01 01:00:00</td>\n",
              "      <td>2006-01-01</td>\n",
              "      <td>1</td>\n",
              "      <td>1</td>\n",
              "      <td>2006</td>\n",
              "      <td>7</td>\n",
              "      <td>1</td>\n",
              "      <td>7.867294e+05</td>\n",
              "    </tr>\n",
              "    <tr>\n",
              "      <th>2</th>\n",
              "      <td>60</td>\n",
              "      <td>60.0</td>\n",
              "      <td>67.0</td>\n",
              "      <td>54.0</td>\n",
              "      <td>2006-01-01 02:00:00</td>\n",
              "      <td>2006-01-01</td>\n",
              "      <td>2</td>\n",
              "      <td>1</td>\n",
              "      <td>2006</td>\n",
              "      <td>7</td>\n",
              "      <td>1</td>\n",
              "      <td>7.464466e+05</td>\n",
              "    </tr>\n",
              "    <tr>\n",
              "      <th>3</th>\n",
              "      <td>59</td>\n",
              "      <td>60.0</td>\n",
              "      <td>68.0</td>\n",
              "      <td>52.0</td>\n",
              "      <td>2006-01-01 03:00:00</td>\n",
              "      <td>2006-01-01</td>\n",
              "      <td>3</td>\n",
              "      <td>1</td>\n",
              "      <td>2006</td>\n",
              "      <td>7</td>\n",
              "      <td>1</td>\n",
              "      <td>7.548888e+05</td>\n",
              "    </tr>\n",
              "    <tr>\n",
              "      <th>4</th>\n",
              "      <td>59</td>\n",
              "      <td>61.0</td>\n",
              "      <td>68.0</td>\n",
              "      <td>51.0</td>\n",
              "      <td>2006-01-01 04:00:00</td>\n",
              "      <td>2006-01-01</td>\n",
              "      <td>4</td>\n",
              "      <td>1</td>\n",
              "      <td>2006</td>\n",
              "      <td>7</td>\n",
              "      <td>1</td>\n",
              "      <td>7.721618e+05</td>\n",
              "    </tr>\n",
              "    <tr>\n",
              "      <th>...</th>\n",
              "      <td>...</td>\n",
              "      <td>...</td>\n",
              "      <td>...</td>\n",
              "      <td>...</td>\n",
              "      <td>...</td>\n",
              "      <td>...</td>\n",
              "      <td>...</td>\n",
              "      <td>...</td>\n",
              "      <td>...</td>\n",
              "      <td>...</td>\n",
              "      <td>...</td>\n",
              "      <td>...</td>\n",
              "    </tr>\n",
              "    <tr>\n",
              "      <th>8755</th>\n",
              "      <td>71</td>\n",
              "      <td>72.0</td>\n",
              "      <td>77.0</td>\n",
              "      <td>65.0</td>\n",
              "      <td>2006-12-31 19:00:00</td>\n",
              "      <td>2006-12-31</td>\n",
              "      <td>19</td>\n",
              "      <td>12</td>\n",
              "      <td>2006</td>\n",
              "      <td>7</td>\n",
              "      <td>365</td>\n",
              "      <td>1.488023e+06</td>\n",
              "    </tr>\n",
              "    <tr>\n",
              "      <th>8756</th>\n",
              "      <td>70</td>\n",
              "      <td>72.0</td>\n",
              "      <td>75.0</td>\n",
              "      <td>65.0</td>\n",
              "      <td>2006-12-31 20:00:00</td>\n",
              "      <td>2006-12-31</td>\n",
              "      <td>20</td>\n",
              "      <td>12</td>\n",
              "      <td>2006</td>\n",
              "      <td>7</td>\n",
              "      <td>365</td>\n",
              "      <td>1.447917e+06</td>\n",
              "    </tr>\n",
              "    <tr>\n",
              "      <th>8757</th>\n",
              "      <td>70</td>\n",
              "      <td>71.0</td>\n",
              "      <td>75.0</td>\n",
              "      <td>65.0</td>\n",
              "      <td>2006-12-31 21:00:00</td>\n",
              "      <td>2006-12-31</td>\n",
              "      <td>21</td>\n",
              "      <td>12</td>\n",
              "      <td>2006</td>\n",
              "      <td>7</td>\n",
              "      <td>365</td>\n",
              "      <td>1.310218e+06</td>\n",
              "    </tr>\n",
              "    <tr>\n",
              "      <th>8758</th>\n",
              "      <td>69</td>\n",
              "      <td>70.0</td>\n",
              "      <td>74.0</td>\n",
              "      <td>65.0</td>\n",
              "      <td>2006-12-31 22:00:00</td>\n",
              "      <td>2006-12-31</td>\n",
              "      <td>22</td>\n",
              "      <td>12</td>\n",
              "      <td>2006</td>\n",
              "      <td>7</td>\n",
              "      <td>365</td>\n",
              "      <td>1.224375e+06</td>\n",
              "    </tr>\n",
              "    <tr>\n",
              "      <th>8759</th>\n",
              "      <td>69</td>\n",
              "      <td>70.0</td>\n",
              "      <td>73.0</td>\n",
              "      <td>64.0</td>\n",
              "      <td>2006-12-31 23:00:00</td>\n",
              "      <td>2006-12-31</td>\n",
              "      <td>23</td>\n",
              "      <td>12</td>\n",
              "      <td>2006</td>\n",
              "      <td>7</td>\n",
              "      <td>365</td>\n",
              "      <td>1.163751e+06</td>\n",
              "    </tr>\n",
              "  </tbody>\n",
              "</table>\n",
              "<p>8760 rows × 12 columns</p>\n",
              "</div>\n",
              "      <button class=\"colab-df-convert\" onclick=\"convertToInteractive('df-bcf1003a-4cb0-4885-9a42-309eb0209e06')\"\n",
              "              title=\"Convert this dataframe to an interactive table.\"\n",
              "              style=\"display:none;\">\n",
              "        \n",
              "  <svg xmlns=\"http://www.w3.org/2000/svg\" height=\"24px\"viewBox=\"0 0 24 24\"\n",
              "       width=\"24px\">\n",
              "    <path d=\"M0 0h24v24H0V0z\" fill=\"none\"/>\n",
              "    <path d=\"M18.56 5.44l.94 2.06.94-2.06 2.06-.94-2.06-.94-.94-2.06-.94 2.06-2.06.94zm-11 1L8.5 8.5l.94-2.06 2.06-.94-2.06-.94L8.5 2.5l-.94 2.06-2.06.94zm10 10l.94 2.06.94-2.06 2.06-.94-2.06-.94-.94-2.06-.94 2.06-2.06.94z\"/><path d=\"M17.41 7.96l-1.37-1.37c-.4-.4-.92-.59-1.43-.59-.52 0-1.04.2-1.43.59L10.3 9.45l-7.72 7.72c-.78.78-.78 2.05 0 2.83L4 21.41c.39.39.9.59 1.41.59.51 0 1.02-.2 1.41-.59l7.78-7.78 2.81-2.81c.8-.78.8-2.07 0-2.86zM5.41 20L4 18.59l7.72-7.72 1.47 1.35L5.41 20z\"/>\n",
              "  </svg>\n",
              "      </button>\n",
              "      \n",
              "  <style>\n",
              "    .colab-df-container {\n",
              "      display:flex;\n",
              "      flex-wrap:wrap;\n",
              "      gap: 12px;\n",
              "    }\n",
              "\n",
              "    .colab-df-convert {\n",
              "      background-color: #E8F0FE;\n",
              "      border: none;\n",
              "      border-radius: 50%;\n",
              "      cursor: pointer;\n",
              "      display: none;\n",
              "      fill: #1967D2;\n",
              "      height: 32px;\n",
              "      padding: 0 0 0 0;\n",
              "      width: 32px;\n",
              "    }\n",
              "\n",
              "    .colab-df-convert:hover {\n",
              "      background-color: #E2EBFA;\n",
              "      box-shadow: 0px 1px 2px rgba(60, 64, 67, 0.3), 0px 1px 3px 1px rgba(60, 64, 67, 0.15);\n",
              "      fill: #174EA6;\n",
              "    }\n",
              "\n",
              "    [theme=dark] .colab-df-convert {\n",
              "      background-color: #3B4455;\n",
              "      fill: #D2E3FC;\n",
              "    }\n",
              "\n",
              "    [theme=dark] .colab-df-convert:hover {\n",
              "      background-color: #434B5C;\n",
              "      box-shadow: 0px 1px 3px 1px rgba(0, 0, 0, 0.15);\n",
              "      filter: drop-shadow(0px 1px 2px rgba(0, 0, 0, 0.3));\n",
              "      fill: #FFFFFF;\n",
              "    }\n",
              "  </style>\n",
              "\n",
              "      <script>\n",
              "        const buttonEl =\n",
              "          document.querySelector('#df-bcf1003a-4cb0-4885-9a42-309eb0209e06 button.colab-df-convert');\n",
              "        buttonEl.style.display =\n",
              "          google.colab.kernel.accessAllowed ? 'block' : 'none';\n",
              "\n",
              "        async function convertToInteractive(key) {\n",
              "          const element = document.querySelector('#df-bcf1003a-4cb0-4885-9a42-309eb0209e06');\n",
              "          const dataTable =\n",
              "            await google.colab.kernel.invokeFunction('convertToInteractive',\n",
              "                                                     [key], {});\n",
              "          if (!dataTable) return;\n",
              "\n",
              "          const docLinkHtml = 'Like what you see? Visit the ' +\n",
              "            '<a target=\"_blank\" href=https://colab.research.google.com/notebooks/data_table.ipynb>data table notebook</a>'\n",
              "            + ' to learn more about interactive tables.';\n",
              "          element.innerHTML = '';\n",
              "          dataTable['output_type'] = 'display_data';\n",
              "          await google.colab.output.renderOutput(dataTable, element);\n",
              "          const docLink = document.createElement('div');\n",
              "          docLink.innerHTML = docLinkHtml;\n",
              "          element.appendChild(docLink);\n",
              "        }\n",
              "      </script>\n",
              "    </div>\n",
              "  </div>\n",
              "  "
            ]
          },
          "metadata": {},
          "execution_count": 22
        }
      ]
    }
  ]
}